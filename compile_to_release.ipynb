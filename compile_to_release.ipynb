{
 "cells": [
  {
   "cell_type": "code",
   "execution_count": 1,
   "metadata": {},
   "outputs": [],
   "source": [
    "import os; os.environ['TF_CPP_MIN_LOG_LEVEL'] = '3'\n",
    "import tensorflow as tf\n",
    "from tensorflow import keras"
   ]
  },
  {
   "cell_type": "code",
   "execution_count": 2,
   "metadata": {},
   "outputs": [],
   "source": [
    "classifier = keras.models.load_model(\"models/classifier\", compile=True)\n",
    "ellipse = keras.models.load_model(\"models/ellipse_regressor\", compile=True)\n",
    "rectangle = keras.models.load_model(\"models/rectangle_regressor\", compile=True)\n",
    "triangle = keras.models.load_model(\"models/triangle_regressor\", compile=True)\n",
    "classifier._name=\"classifier\"\n",
    "ellipse._name=\"ellipse\"\n",
    "rectangle._name=\"rectangle\"\n",
    "triangle._name=\"triangle\""
   ]
  },
  {
   "cell_type": "code",
   "execution_count": 3,
   "metadata": {},
   "outputs": [],
   "source": [
    "def make_wizard():\n",
    "    inputs = keras.Input(shape=(70, 70, 1))\n",
    "    shape = tf.argmax(tf.gather(classifier(inputs), 0))\n",
    "    outputs = tf.tuple([shape - 1, ellipse(inputs), rectangle(inputs), triangle(inputs)])\n",
    "    return keras.Model(inputs=inputs, outputs=outputs, name=\"ShapeWizard\")"
   ]
  },
  {
   "cell_type": "code",
   "execution_count": 4,
   "metadata": {},
   "outputs": [],
   "source": [
    "wizard = make_wizard()"
   ]
  },
  {
   "cell_type": "code",
   "execution_count": 5,
   "metadata": {},
   "outputs": [
    {
     "data": {
      "text/plain": [
       "[<tf.Tensor: shape=(), dtype=int64, numpy=-1>,\n",
       " <tf.Tensor: shape=(1, 8), dtype=float32, numpy=\n",
       " array([[0.24543212, 0.6442481 , 0.32226545, 0.215644  , 0.7408611 ,\n",
       "         0.34888875, 0.7016524 , 0.8112767 ]], dtype=float32)>,\n",
       " <tf.Tensor: shape=(1, 8), dtype=float32, numpy=\n",
       " array([[0.24047792, 0.8734088 , 0.10136943, 0.29787955, 0.7557267 ,\n",
       "         0.13280201, 0.895409  , 0.7083211 ]], dtype=float32)>,\n",
       " <tf.Tensor: shape=(1, 6), dtype=float32, numpy=\n",
       " array([[0.38967794, 0.94285154, 0.13885719, 0.13914545, 0.8961349 ,\n",
       "         0.35414615]], dtype=float32)>]"
      ]
     },
     "execution_count": 5,
     "metadata": {},
     "output_type": "execute_result"
    }
   ],
   "source": [
    "wizard(tf.ones((1, 70, 70, 1)))"
   ]
  },
  {
   "cell_type": "code",
   "execution_count": 9,
   "metadata": {},
   "outputs": [
    {
     "name": "stdout",
     "output_type": "stream",
     "text": [
      "WARNING:tensorflow:Compiled the loaded model, but the compiled metrics have yet to be built. `model.compile_metrics` will be empty until you train or evaluate the model.\n"
     ]
    },
    {
     "name": "stderr",
     "output_type": "stream",
     "text": [
      "WARNING:tensorflow:Compiled the loaded model, but the compiled metrics have yet to be built. `model.compile_metrics` will be empty until you train or evaluate the model.\n"
     ]
    }
   ],
   "source": [
    "wizard.save(\"models/ShapeWizard\", save_format=\"h5\")"
   ]
  },
  {
   "cell_type": "code",
   "execution_count": null,
   "metadata": {},
   "outputs": [],
   "source": []
  }
 ],
 "metadata": {
  "kernelspec": {
   "display_name": "Python 3",
   "language": "python",
   "name": "python3"
  },
  "language_info": {
   "codemirror_mode": {
    "name": "ipython",
    "version": 3
   },
   "file_extension": ".py",
   "mimetype": "text/x-python",
   "name": "python",
   "nbconvert_exporter": "python",
   "pygments_lexer": "ipython3",
   "version": "3.10.10"
  },
  "orig_nbformat": 4
 },
 "nbformat": 4,
 "nbformat_minor": 2
}

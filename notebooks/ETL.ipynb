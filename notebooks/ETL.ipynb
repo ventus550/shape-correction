{
 "cells": [
  {
   "attachments": {},
   "cell_type": "markdown",
   "metadata": {},
   "source": [
    "## Init"
   ]
  },
  {
   "cell_type": "code",
   "execution_count": 1,
   "metadata": {},
   "outputs": [
    {
     "name": "stdout",
     "output_type": "stream",
     "text": [
      "On branch main\n",
      "Your branch is up to date with 'origin/main'.\n",
      "\n",
      "Changes not staged for commit:\n",
      "  (use \"git add <file>...\" to update what will be committed)\n",
      "  (use \"git restore <file>...\" to discard changes in working directory)\n",
      "  (commit or discard the untracked or modified content in submodules)\n",
      "\t\u001b[31mmodified:   ../TkCanvas\u001b[m (untracked content)\n",
      "\t\u001b[31mmodified:   ETL.ipynb\u001b[m\n",
      "\n",
      "no changes added to commit (use \"git add\" and/or \"git commit -a\")\n",
      "[Errno 2] No such file or directory: 'ShapeCorrection'\n",
      "/home/ventus/Documents/ShapeCorrection/notebooks\n"
     ]
    }
   ],
   "source": [
    "repo = \"https://github.com/ventus550/HandwritingRecognition\"\n",
    "! ! (git status 2> /dev/null) && git clone {repo}\n",
    "%cd ShapeCorrection"
   ]
  },
  {
   "cell_type": "code",
   "execution_count": 2,
   "metadata": {},
   "outputs": [],
   "source": [
    "import sys\n",
    "sys.path.append(\"..\")"
   ]
  },
  {
   "cell_type": "code",
   "execution_count": 3,
   "metadata": {},
   "outputs": [],
   "source": [
    "import numpy as np\n",
    "from pathlib import Path\n",
    "from PIL import Image, ImageOps\n",
    "from matplotlib import pyplot as plt"
   ]
  },
  {
   "attachments": {},
   "cell_type": "markdown",
   "metadata": {},
   "source": [
    "## Configuration"
   ]
  },
  {
   "cell_type": "code",
   "execution_count": 4,
   "metadata": {},
   "outputs": [],
   "source": [
    "BASEDIR = Path().absolute().parent\n",
    "DESTDIR = BASEDIR / \"data\"\n",
    "DATASET = DESTDIR / \"regression\"\n",
    "IMGSSRC = DESTDIR / \"images\"\n",
    "VRTSSRC = DESTDIR / \"vertices\""
   ]
  },
  {
   "cell_type": "code",
   "execution_count": 5,
   "metadata": {},
   "outputs": [],
   "source": [
    "shapes = [\"other\", \"ellipse\", \"rectangle\", \"triangle\"]"
   ]
  },
  {
   "attachments": {},
   "cell_type": "markdown",
   "metadata": {},
   "source": [
    "## Data loading"
   ]
  },
  {
   "cell_type": "code",
   "execution_count": 6,
   "metadata": {},
   "outputs": [],
   "source": [
    "def read_image(image_path):\n",
    "    return 1 - np.array(ImageOps.grayscale(Image.open(image_path))) / 255.0\n",
    "\n",
    "def read_certs(verts_path):\n",
    "    return np.genfromtxt(verts_path, delimiter=\",\")"
   ]
  },
  {
   "cell_type": "code",
   "execution_count": 7,
   "metadata": {},
   "outputs": [],
   "source": [
    "def load_shape(shape):\n",
    "\timages = IMGSSRC / shape\n",
    "\tvertices = VRTSSRC / shape\n",
    "\n",
    "\tfor image_path, verts_path in zip(images.iterdir(), vertices.iterdir()):\n",
    "\t\timg = read_image(image_path)\n",
    "\t\tvrt = read_certs(verts_path)\n",
    "\t\tyield img, vrt\n",
    "\n",
    "def load_classes():\n",
    "\tfor shape in shapes:\n",
    "\t\timages = IMGSSRC / shape\n",
    "\t\tfor image_path in images.iterdir():\n",
    "\t\t\timg = read_image(image_path)\n",
    "\t\t\tyield img, shapes.index(shape)"
   ]
  },
  {
   "cell_type": "code",
   "execution_count": 8,
   "metadata": {},
   "outputs": [],
   "source": [
    "def draw_data_point(x, y, *args):\n",
    "    points = x.shape * y\n",
    "    plt.figure(dpi=50)\n",
    "    plt.axis(\"off\")\n",
    "    plt.imshow(x, cmap=\"gray\", )\n",
    "    plt.scatter(points[:, 0], points[:, 1], linewidths=10)"
   ]
  },
  {
   "cell_type": "code",
   "execution_count": 9,
   "metadata": {},
   "outputs": [
    {
     "data": {
      "image/png": "[encoded data removed]",
      "text/plain": [
       "<Figure size 320x240 with 1 Axes>"
      ]
     },
     "metadata": {},
     "output_type": "display_data"
    }
   ],
   "source": [
    "draw_data_point(*next(load_shape(\"ellipse\")))"
   ]
  },
  {
   "cell_type": "code",
   "execution_count": 10,
   "metadata": {},
   "outputs": [
    {
     "data": {
      "image/png": "[encoded data removed]",
      "text/plain": [
       "<Figure size 320x240 with 1 Axes>"
      ]
     },
     "metadata": {},
     "output_type": "display_data"
    }
   ],
   "source": [
    "draw_data_point(*next(load_shape(\"rectangle\")))"
   ]
  },
  {
   "cell_type": "code",
   "execution_count": 11,
   "metadata": {},
   "outputs": [
    {
     "data": {
      "image/png": "[encoded data removed]",
      "text/plain": [
       "<Figure size 320x240 with 1 Axes>"
      ]
     },
     "metadata": {},
     "output_type": "display_data"
    }
   ],
   "source": [
    "draw_data_point(*next(load_shape(\"triangle\")))"
   ]
  },
  {
   "attachments": {},
   "cell_type": "markdown",
   "metadata": {},
   "source": [
    "## Data saving"
   ]
  },
  {
   "cell_type": "code",
   "execution_count": 12,
   "metadata": {},
   "outputs": [],
   "source": [
    "def unison_shuffled_copies(a, b):\n",
    "    assert len(a) == len(b), f\"{a.shape, b.shape}\"\n",
    "    p = np.random.permutation(len(a))\n",
    "    return a[p], b[p]"
   ]
  },
  {
   "cell_type": "code",
   "execution_count": 15,
   "metadata": {},
   "outputs": [],
   "source": [
    "def save_regression_data(shape):\n",
    "\tX, Y = list(zip(*load_shape(shape)))\n",
    "\tX, Y = np.array(X, dtype=np.float32), np.array(Y, dtype=np.float32)\n",
    "\tX, Y = unison_shuffled_copies(X, Y)\n",
    "\tnp.savez(DATASET / shape, X, Y)\n",
    "\n",
    "def save_classification_data():\n",
    "\tX, Y = [], []\n",
    "\tfor shape in shapes[1:]:\n",
    "\t\tx, y = list(zip(*load_classes()))\n",
    "\t\tx, y = np.array(x, dtype=np.float32), np.array(np.reshape(y, [-1, 1]), dtype=np.float32)\n",
    "\t\tX.append(x)\n",
    "\t\tY.append(y)\n",
    "\tX, Y = np.concatenate(X), np.concatenate(Y)\n",
    "\tX, Y = unison_shuffled_copies(X, Y)\n",
    "\tnp.savez(DESTDIR / \"classification\", X, Y)"
   ]
  },
  {
   "cell_type": "code",
   "execution_count": 16,
   "metadata": {},
   "outputs": [],
   "source": [
    "DATASET.mkdir(exist_ok=True)\n",
    "save_regression_data(\"ellipse\")\n",
    "save_regression_data(\"rectangle\")\n",
    "save_regression_data(\"triangle\")\n",
    "save_classification_data()"
   ]
  },
  {
   "attachments": {},
   "cell_type": "markdown",
   "metadata": {},
   "source": [
    "## Test serialization"
   ]
  },
  {
   "cell_type": "code",
   "execution_count": 17,
   "metadata": {},
   "outputs": [],
   "source": [
    "X, Y = np.load(DATASET / \"ellipse.npz\").values()"
   ]
  },
  {
   "cell_type": "code",
   "execution_count": 18,
   "metadata": {},
   "outputs": [
    {
     "data": {
      "image/png": "[encoded data removed]",
      "text/plain": [
       "<Figure size 320x240 with 1 Axes>"
      ]
     },
     "metadata": {},
     "output_type": "display_data"
    }
   ],
   "source": [
    "draw_data_point(X[0], Y[0])"
   ]
  },
  {
   "cell_type": "code",
   "execution_count": 19,
   "metadata": {},
   "outputs": [
    {
     "data": {
      "image/png": "[encoded data removed]",
      "text/plain": [
       "<Figure size 320x240 with 1 Axes>"
      ]
     },
     "metadata": {},
     "output_type": "display_data"
    }
   ],
   "source": [
    "draw_data_point(X[1], Y[1])"
   ]
  },
  {
   "cell_type": "code",
   "execution_count": 20,
   "metadata": {},
   "outputs": [
    {
     "data": {
      "text/plain": [
       "((81876, 70, 70), (81876, 1))"
      ]
     },
     "execution_count": 20,
     "metadata": {},
     "output_type": "execute_result"
    }
   ],
   "source": [
    "X, Y = np.load(DESTDIR / \"classification.npz\").values()\n",
    "X.shape, Y.shape"
   ]
  },
  {
   "cell_type": "code",
   "execution_count": 21,
   "metadata": {},
   "outputs": [
    {
     "data": {
      "text/plain": [
       "array([2., 1., 0., 2., 3., 0., 1., 1., 0., 0., 0., 0., 0., 0., 3., 3., 0.,\n",
       "       2., 0., 3., 3., 0., 1., 0., 1., 0., 2., 3., 1., 0., 3., 3., 3., 0.,\n",
       "       2., 2., 1., 1., 2., 1., 1., 2., 3., 2., 2., 0., 0., 0., 0., 3., 2.,\n",
       "       0., 3., 1., 2., 3., 0., 3., 1., 1., 2., 0., 1., 1., 0., 0., 3., 2.,\n",
       "       1., 1., 0., 0., 2., 1., 1., 2., 0., 1., 1., 0., 2., 1., 2., 1., 3.,\n",
       "       0., 0., 0., 2., 0., 1., 0., 0., 2., 1., 3., 3., 3., 2., 3.],\n",
       "      dtype=float32)"
      ]
     },
     "execution_count": 21,
     "metadata": {},
     "output_type": "execute_result"
    }
   ],
   "source": [
    "Y[:100].ravel()"
   ]
  },
  {
   "cell_type": "code",
   "execution_count": null,
   "metadata": {},
   "outputs": [],
   "source": []
  },
  {
   "cell_type": "code",
   "execution_count": null,
   "metadata": {},
   "outputs": [],
   "source": []
  }
 ],
 "metadata": {
  "kernelspec": {
   "display_name": "Python 3",
   "language": "python",
   "name": "python3"
  },
  "language_info": {
   "codemirror_mode": {
    "name": "ipython",
    "version": 3
   },
   "file_extension": ".py",
   "mimetype": "text/x-python",
   "name": "python",
   "nbconvert_exporter": "python",
   "pygments_lexer": "ipython3",
   "version": "3.10.10"
  },
  "orig_nbformat": 4
 },
 "nbformat": 4,
 "nbformat_minor": 2
}

{
  "cells": [
    {
      "cell_type": "markdown",
      "metadata": {
        "id": "view-in-github",
        "colab_type": "text"
      },
      "source": [
        "<a href=\"https://colab.research.google.com/github/ventus550/ShapeCorrection/blob/main/notebooks/train-regressor.ipynb\" target=\"_parent\"><img src=\"https://colab.research.google.com/assets/colab-badge.svg\" alt=\"Open In Colab\"/></a>"
      ]
    },
    {
      "cell_type": "markdown",
      "metadata": {
        "id": "vqy8EEbVBrpi"
      },
      "source": [
        "## Init"
      ]
    },
    {
      "cell_type": "code",
      "source": [
        "try:\n",
        "    from google.colab import drive\n",
        "    drive.mount('/content/mount', force_remount=True)\n",
        "    %cd mount/MyDrive/MachineLearningProjects/ShapeCorrection/notebooks\n",
        "except ModuleNotFoundError: ..."
      ],
      "metadata": {
        "id": "Z7h1ReP1EFWO",
        "outputId": "937aa298-5e92-471d-fc6f-128a7b02f805",
        "colab": {
          "base_uri": "https://localhost:8080/"
        }
      },
      "execution_count": 16,
      "outputs": [
        {
          "output_type": "stream",
          "name": "stdout",
          "text": [
            "Mounted at /content/mount\n",
            "[Errno 107] Transport endpoint is not connected: 'mount/MyDrive/MachineLearningProjects/ShapeCorrection/notebooks'\n",
            "/content/ShapeCorrection\n"
          ]
        }
      ]
    },
    {
      "cell_type": "code",
      "source": [
        "import sys\n",
        "sys.path.append(\"..\")"
      ],
      "metadata": {
        "id": "rb2npCA3IC7m"
      },
      "execution_count": 17,
      "outputs": []
    },
    {
      "cell_type": "code",
      "execution_count": 18,
      "metadata": {
        "id": "BQpffxdLBrpl",
        "outputId": "2df9df25-47d4-48e6-e58c-32b71bc27fe0",
        "colab": {
          "base_uri": "https://localhost:8080/",
          "height": 355
        }
      },
      "outputs": [
        {
          "output_type": "error",
          "ename": "TypeError",
          "evalue": "ignored",
          "traceback": [
            "\u001b[0;31m---------------------------------------------------------------------------\u001b[0m",
            "\u001b[0;31mTypeError\u001b[0m                                 Traceback (most recent call last)",
            "\u001b[0;32m<ipython-input-18-59a23c4edfa6>\u001b[0m in \u001b[0;36m<cell line: 10>\u001b[0;34m()\u001b[0m\n\u001b[1;32m      8\u001b[0m \u001b[0;32mfrom\u001b[0m \u001b[0mmatplotlib\u001b[0m \u001b[0;32mimport\u001b[0m \u001b[0mpyplot\u001b[0m \u001b[0;32mas\u001b[0m \u001b[0mplt\u001b[0m\u001b[0;34m\u001b[0m\u001b[0;34m\u001b[0m\u001b[0m\n\u001b[1;32m      9\u001b[0m \u001b[0;34m\u001b[0m\u001b[0m\n\u001b[0;32m---> 10\u001b[0;31m \u001b[0;32mimport\u001b[0m \u001b[0mutils\u001b[0m\u001b[0;34m\u001b[0m\u001b[0;34m\u001b[0m\u001b[0m\n\u001b[0m\u001b[1;32m     11\u001b[0m \u001b[0;32mimport\u001b[0m \u001b[0marchitectures\u001b[0m\u001b[0;34m\u001b[0m\u001b[0;34m\u001b[0m\u001b[0m\n",
            "\u001b[0;32m/content/ShapeCorrection/utils.py\u001b[0m in \u001b[0;36m<module>\u001b[0;34m\u001b[0m\n\u001b[1;32m      6\u001b[0m \u001b[0;34m\u001b[0m\u001b[0m\n\u001b[1;32m      7\u001b[0m \u001b[0;34m\u001b[0m\u001b[0m\n\u001b[0;32m----> 8\u001b[0;31m \u001b[0;32mdef\u001b[0m \u001b[0msave\u001b[0m\u001b[0;34m(\u001b[0m\u001b[0mmodel\u001b[0m\u001b[0;34m,\u001b[0m \u001b[0mpath\u001b[0m\u001b[0;34m:\u001b[0m \u001b[0mPath\u001b[0m \u001b[0;34m|\u001b[0m \u001b[0mstr\u001b[0m\u001b[0;34m,\u001b[0m \u001b[0mmetadata\u001b[0m\u001b[0;34m=\u001b[0m\u001b[0;34m{\u001b[0m\u001b[0;34m}\u001b[0m\u001b[0;34m,\u001b[0m \u001b[0mfrozen\u001b[0m\u001b[0;34m=\u001b[0m\u001b[0;32mFalse\u001b[0m\u001b[0;34m)\u001b[0m\u001b[0;34m:\u001b[0m\u001b[0;34m\u001b[0m\u001b[0;34m\u001b[0m\u001b[0m\n\u001b[0m\u001b[1;32m      9\u001b[0m     \u001b[0mpath\u001b[0m \u001b[0;34m=\u001b[0m \u001b[0mPath\u001b[0m\u001b[0;34m(\u001b[0m\u001b[0mpath\u001b[0m\u001b[0;34m)\u001b[0m\u001b[0;34m\u001b[0m\u001b[0;34m\u001b[0m\u001b[0m\n\u001b[1;32m     10\u001b[0m     \u001b[0;32mif\u001b[0m \u001b[0mfrozen\u001b[0m\u001b[0;34m:\u001b[0m\u001b[0;34m\u001b[0m\u001b[0;34m\u001b[0m\u001b[0m\n",
            "\u001b[0;31mTypeError\u001b[0m: unsupported operand type(s) for |: 'type' and 'type'"
          ]
        }
      ],
      "source": [
        "import keras\n",
        "from keras.layers import *\n",
        "import tensorflow as tf\n",
        "\n",
        "import numpy as np\n",
        "from scipy import ndimage\n",
        "from pathlib import Path\n",
        "from matplotlib import pyplot as plt\n",
        "\n",
        "import utils\n",
        "import architectures"
      ]
    },
    {
      "cell_type": "markdown",
      "metadata": {
        "id": "Rb519oQbBrpl"
      },
      "source": [
        "## Configuration"
      ]
    },
    {
      "cell_type": "code",
      "execution_count": null,
      "metadata": {
        "id": "8qc3KGbgBrpl"
      },
      "outputs": [],
      "source": [
        "shape = \"ellipse\"\n",
        "vertices = 4"
      ]
    },
    {
      "cell_type": "code",
      "execution_count": 19,
      "metadata": {
        "id": "Mu_brrPlBrpl",
        "outputId": "fea54e1d-1586-45fe-9ec1-58241666af0c",
        "colab": {
          "base_uri": "https://localhost:8080/",
          "height": 208
        }
      },
      "outputs": [
        {
          "output_type": "error",
          "ename": "NameError",
          "evalue": "ignored",
          "traceback": [
            "\u001b[0;31m---------------------------------------------------------------------------\u001b[0m",
            "\u001b[0;31mNameError\u001b[0m                                 Traceback (most recent call last)",
            "\u001b[0;32m<ipython-input-19-0a47606a616a>\u001b[0m in \u001b[0;36m<cell line: 4>\u001b[0;34m()\u001b[0m\n\u001b[1;32m      2\u001b[0m \u001b[0mDESTDIR\u001b[0m \u001b[0;34m=\u001b[0m \u001b[0mBASEDIR\u001b[0m \u001b[0;34m/\u001b[0m \u001b[0;34m\"data\"\u001b[0m\u001b[0;34m\u001b[0m\u001b[0;34m\u001b[0m\u001b[0m\n\u001b[1;32m      3\u001b[0m \u001b[0mMODLDIR\u001b[0m \u001b[0;34m=\u001b[0m \u001b[0mBASEDIR\u001b[0m \u001b[0;34m/\u001b[0m \u001b[0;34m\"models\"\u001b[0m\u001b[0;34m\u001b[0m\u001b[0;34m\u001b[0m\u001b[0m\n\u001b[0;32m----> 4\u001b[0;31m \u001b[0mDATASET\u001b[0m \u001b[0;34m=\u001b[0m \u001b[0mDESTDIR\u001b[0m \u001b[0;34m/\u001b[0m \u001b[0;34m\"regression\"\u001b[0m \u001b[0;34m/\u001b[0m \u001b[0;34mf\"{shape}.npz\"\u001b[0m\u001b[0;34m\u001b[0m\u001b[0;34m\u001b[0m\u001b[0m\n\u001b[0m",
            "\u001b[0;31mNameError\u001b[0m: name 'shape' is not defined"
          ]
        }
      ],
      "source": [
        "BASEDIR = Path().absolute().parent\n",
        "DESTDIR = BASEDIR / \"data\"\n",
        "MODLDIR = BASEDIR / \"models\"\n",
        "DATASET = DESTDIR / \"regression\" / f\"{shape}.npz\""
      ]
    },
    {
      "cell_type": "markdown",
      "metadata": {
        "id": "BN5NbDb0Brpm"
      },
      "source": [
        "## Data augmentation"
      ]
    },
    {
      "cell_type": "code",
      "execution_count": null,
      "metadata": {
        "id": "9zy2kHiuBrpm"
      },
      "outputs": [],
      "source": [
        "def rotation_matrix(angle):\n",
        "    theta = np.radians(angle)\n",
        "    c, s = np.cos(theta), np.sin(theta)\n",
        "    return np.array([[c, -s], [s, c]])\n",
        "\n",
        "def rotate(x, y, angle=30):\n",
        "    x = np.clip(ndimage.rotate(x, angle=angle, reshape=False), 0, 1)\n",
        "    centroid = np.zeros(2) + 0.5\n",
        "    R = rotation_matrix(angle)\n",
        "    y = centroid + (y - centroid) @ R\n",
        "    return x, y\n",
        "\n",
        "def fliplr(x, y):\n",
        "\tx = np.flip(x, axis=1)\n",
        "\ty = ((1, 0) - y) * (1, -1)\n",
        "\treturn x, y\n",
        "\n",
        "def flipud(x, y):\n",
        "\tx = np.flip(x, axis=0)\n",
        "\ty = ((0, 1) - y) * (-1, 1)\n",
        "\treturn x, y\n",
        "\n",
        "def augment(x, y):\n",
        "    if np.random.rand() < 0.5:\n",
        "        x, y = fliplr(x, y)\n",
        "    if np.random.rand() < 0.5:\n",
        "        x, y = flipud(x, y)\n",
        "    \n",
        "    random_angle = np.random.randint(360)\n",
        "    x, y = rotate(x, y, random_angle)\n",
        "    return x, y"
      ]
    },
    {
      "cell_type": "markdown",
      "metadata": {
        "id": "-se7iCPbBrpm"
      },
      "source": [
        "## Data loading"
      ]
    },
    {
      "cell_type": "code",
      "execution_count": null,
      "metadata": {
        "id": "EyfngyyKBrpm"
      },
      "outputs": [],
      "source": [
        "X, Y  = np.load(DATASET).values()\n",
        "test  = utils.DataGenerator([X[:100], Y[:100]])\n",
        "val   = utils.DataGenerator([X[100:200], Y[100:200]])\n",
        "train = utils.DataGenerator([X[200:], Y[200:]], transform=augment)"
      ]
    },
    {
      "cell_type": "code",
      "execution_count": null,
      "metadata": {
        "id": "zd448yomBrpm"
      },
      "outputs": [],
      "source": [
        "def chamfer_distance_loss(points1, points2):\n",
        "    # Compute pairwise distances between points1 and points2\n",
        "    distances1 = tf.norm(tf.expand_dims(points1, axis=2) - tf.expand_dims(points2, axis=1), axis=-1)\n",
        "    distances2 = tf.norm(tf.expand_dims(points2, axis=2) - tf.expand_dims(points1, axis=1), axis=-1)\n",
        "\n",
        "    # Compute the minimum distances for each point in points1 and points2\n",
        "    min_distances1 = tf.reduce_min(distances1, axis=-1)\n",
        "    min_distances2 = tf.reduce_min(distances2, axis=-1)\n",
        "\n",
        "    # Compute the Chamfer distance loss\n",
        "    chamfer_loss = tf.reduce_mean(min_distances1, axis=-1) + tf.reduce_mean(min_distances2, axis=-1)\n",
        "\n",
        "    # Compute the total loss over the entire batch\n",
        "    return tf.reduce_sum(chamfer_loss)"
      ]
    },
    {
      "cell_type": "code",
      "execution_count": null,
      "metadata": {
        "id": "cQW5IbOPBrpm"
      },
      "outputs": [],
      "source": [
        "model = architectures.CNN(vertices)\n",
        "model.compile(loss=chamfer_distance_loss)"
      ]
    },
    {
      "cell_type": "code",
      "execution_count": null,
      "metadata": {
        "id": "D9jU43dwBrpn"
      },
      "outputs": [],
      "source": [
        "model.fit(train, epochs=1)"
      ]
    },
    {
      "cell_type": "code",
      "execution_count": null,
      "metadata": {
        "id": "zNH6UEf6Brpn"
      },
      "outputs": [],
      "source": [
        "utils.save(model, MODLDIR / \"new.h5\", frozen=True)"
      ]
    },
    {
      "cell_type": "code",
      "execution_count": null,
      "metadata": {
        "id": "9g9uDaiPBrpn"
      },
      "outputs": [],
      "source": [
        "model = utils.load(MODLDIR / \"new.h5\")"
      ]
    },
    {
      "cell_type": "code",
      "execution_count": null,
      "metadata": {
        "id": "iPUMscRJBrpn"
      },
      "outputs": [],
      "source": [
        "from shapely.geometry import Polygon\n",
        "\n",
        "def dice(label, pred, nb_vertices=4):\n",
        "    y_polygon = Polygon(label.reshape(nb_vertices, 2))\n",
        "    pred_polygon = Polygon(pred.reshape(nb_vertices, 2))\n",
        "\n",
        "    I = y_polygon.intersection(pred_polygon).area\n",
        "    return 2 * I / (y_polygon.area + pred_polygon.area)"
      ]
    },
    {
      "cell_type": "code",
      "execution_count": null,
      "metadata": {
        "id": "jv0aq3G3Brpn"
      },
      "outputs": [],
      "source": [
        "image_size = 70\n",
        "\n",
        "fig = plt.figure(figsize=(13, 21))\n",
        "fig.subplots_adjust(hspace=0.13, wspace=0.01, left=0, right=1, bottom=0, top=1.2)\n",
        "nb_pictures = 32\n",
        "for irow in range(nb_pictures):\n",
        "    ipic = np.random.choice(X.shape[0])\n",
        "    ax = fig.add_subplot(nb_pictures // 4, 4, irow+1, xticks=[],yticks=[]) \n",
        "    pred = model(X[ipic].reshape([1, 70, 70, 1]))[0].numpy()\n",
        "    utils.draw_data_point(X[ipic], Y[ipic], pred, ax)\n",
        "    try:\n",
        "        dice = utils.dice(Y[ipic], pred, vertices)\n",
        "        IoU = utils.IoU(Y[ipic], pred, vertices)\n",
        "        ax.set_title(f\"dice {dice:5.3f}, IoU {IoU:5.3f}\")\n",
        "    except Exception as e:\n",
        "        ax.set_title(\"n/a\")\n",
        "plt.show()"
      ]
    },
    {
      "cell_type": "code",
      "execution_count": null,
      "metadata": {
        "id": "ddji2qxoBrpo"
      },
      "outputs": [],
      "source": []
    }
  ],
  "metadata": {
    "kernelspec": {
      "display_name": "Python 3",
      "language": "python",
      "name": "python3"
    },
    "language_info": {
      "codemirror_mode": {
        "name": "ipython",
        "version": 3
      },
      "file_extension": ".py",
      "mimetype": "text/x-python",
      "name": "python",
      "nbconvert_exporter": "python",
      "pygments_lexer": "ipython3",
      "version": "3.10.10"
    },
    "orig_nbformat": 4,
    "colab": {
      "provenance": [],
      "include_colab_link": true
    }
  },
  "nbformat": 4,
  "nbformat_minor": 0
}